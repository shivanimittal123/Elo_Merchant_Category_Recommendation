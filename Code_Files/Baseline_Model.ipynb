{
 "cells": [
  {
   "cell_type": "markdown",
   "metadata": {},
   "source": [
    "# Build models without any feature engineering"
   ]
  },
  {
   "cell_type": "code",
   "execution_count": null,
   "metadata": {},
   "outputs": [],
   "source": [
    "import pandas as pd\n",
    "import numpy as np\n",
    "import matplotlib.pyplot as plt\n",
    "import seaborn as sns\n",
    "import datetime\n",
    "from sklearn.model_selection import train_test_split\n",
    "import xgboost as xgb"
   ]
  },
  {
   "cell_type": "code",
   "execution_count": 38,
   "metadata": {},
   "outputs": [
    {
     "data": {
      "text/html": [
       "<div>\n",
       "<style scoped>\n",
       "    .dataframe tbody tr th:only-of-type {\n",
       "        vertical-align: middle;\n",
       "    }\n",
       "\n",
       "    .dataframe tbody tr th {\n",
       "        vertical-align: top;\n",
       "    }\n",
       "\n",
       "    .dataframe thead th {\n",
       "        text-align: right;\n",
       "    }\n",
       "</style>\n",
       "<table border=\"1\" class=\"dataframe\">\n",
       "  <thead>\n",
       "    <tr style=\"text-align: right;\">\n",
       "      <th></th>\n",
       "      <th>first_active_month</th>\n",
       "      <th>card_id</th>\n",
       "      <th>feature_1</th>\n",
       "      <th>feature_2</th>\n",
       "      <th>feature_3</th>\n",
       "      <th>target</th>\n",
       "    </tr>\n",
       "  </thead>\n",
       "  <tbody>\n",
       "    <tr>\n",
       "      <td>0</td>\n",
       "      <td>2017-06</td>\n",
       "      <td>C_ID_92a2005557</td>\n",
       "      <td>5</td>\n",
       "      <td>2</td>\n",
       "      <td>1</td>\n",
       "      <td>-0.820283</td>\n",
       "    </tr>\n",
       "    <tr>\n",
       "      <td>1</td>\n",
       "      <td>2017-01</td>\n",
       "      <td>C_ID_3d0044924f</td>\n",
       "      <td>4</td>\n",
       "      <td>1</td>\n",
       "      <td>0</td>\n",
       "      <td>0.392913</td>\n",
       "    </tr>\n",
       "    <tr>\n",
       "      <td>2</td>\n",
       "      <td>2016-08</td>\n",
       "      <td>C_ID_d639edf6cd</td>\n",
       "      <td>2</td>\n",
       "      <td>2</td>\n",
       "      <td>0</td>\n",
       "      <td>0.688056</td>\n",
       "    </tr>\n",
       "    <tr>\n",
       "      <td>3</td>\n",
       "      <td>2017-09</td>\n",
       "      <td>C_ID_186d6a6901</td>\n",
       "      <td>4</td>\n",
       "      <td>3</td>\n",
       "      <td>0</td>\n",
       "      <td>0.142495</td>\n",
       "    </tr>\n",
       "    <tr>\n",
       "      <td>4</td>\n",
       "      <td>2017-11</td>\n",
       "      <td>C_ID_cdbd2c0db2</td>\n",
       "      <td>1</td>\n",
       "      <td>3</td>\n",
       "      <td>0</td>\n",
       "      <td>-0.159749</td>\n",
       "    </tr>\n",
       "  </tbody>\n",
       "</table>\n",
       "</div>"
      ],
      "text/plain": [
       "  first_active_month          card_id  feature_1  feature_2  feature_3  \\\n",
       "0            2017-06  C_ID_92a2005557          5          2          1   \n",
       "1            2017-01  C_ID_3d0044924f          4          1          0   \n",
       "2            2016-08  C_ID_d639edf6cd          2          2          0   \n",
       "3            2017-09  C_ID_186d6a6901          4          3          0   \n",
       "4            2017-11  C_ID_cdbd2c0db2          1          3          0   \n",
       "\n",
       "     target  \n",
       "0 -0.820283  \n",
       "1  0.392913  \n",
       "2  0.688056  \n",
       "3  0.142495  \n",
       "4 -0.159749  "
      ]
     },
     "execution_count": 38,
     "metadata": {},
     "output_type": "execute_result"
    }
   ],
   "source": [
    "train_data = pd.read_csv(r\"G:\\IIITD\\SML\\Project\\elo_merchant_category\\train.csv\")\n",
    "train_data.head()"
   ]
  },
  {
   "cell_type": "code",
   "execution_count": 39,
   "metadata": {},
   "outputs": [
    {
     "data": {
      "text/html": [
       "<div>\n",
       "<style scoped>\n",
       "    .dataframe tbody tr th:only-of-type {\n",
       "        vertical-align: middle;\n",
       "    }\n",
       "\n",
       "    .dataframe tbody tr th {\n",
       "        vertical-align: top;\n",
       "    }\n",
       "\n",
       "    .dataframe thead th {\n",
       "        text-align: right;\n",
       "    }\n",
       "</style>\n",
       "<table border=\"1\" class=\"dataframe\">\n",
       "  <thead>\n",
       "    <tr style=\"text-align: right;\">\n",
       "      <th></th>\n",
       "      <th>first_active_month</th>\n",
       "      <th>card_id</th>\n",
       "      <th>feature_1</th>\n",
       "      <th>feature_2</th>\n",
       "      <th>feature_3</th>\n",
       "    </tr>\n",
       "  </thead>\n",
       "  <tbody>\n",
       "    <tr>\n",
       "      <td>0</td>\n",
       "      <td>2017-04</td>\n",
       "      <td>C_ID_0ab67a22ab</td>\n",
       "      <td>3</td>\n",
       "      <td>3</td>\n",
       "      <td>1</td>\n",
       "    </tr>\n",
       "    <tr>\n",
       "      <td>1</td>\n",
       "      <td>2017-01</td>\n",
       "      <td>C_ID_130fd0cbdd</td>\n",
       "      <td>2</td>\n",
       "      <td>3</td>\n",
       "      <td>0</td>\n",
       "    </tr>\n",
       "    <tr>\n",
       "      <td>2</td>\n",
       "      <td>2017-08</td>\n",
       "      <td>C_ID_b709037bc5</td>\n",
       "      <td>5</td>\n",
       "      <td>1</td>\n",
       "      <td>1</td>\n",
       "    </tr>\n",
       "    <tr>\n",
       "      <td>3</td>\n",
       "      <td>2017-12</td>\n",
       "      <td>C_ID_d27d835a9f</td>\n",
       "      <td>2</td>\n",
       "      <td>1</td>\n",
       "      <td>0</td>\n",
       "    </tr>\n",
       "    <tr>\n",
       "      <td>4</td>\n",
       "      <td>2015-12</td>\n",
       "      <td>C_ID_2b5e3df5c2</td>\n",
       "      <td>5</td>\n",
       "      <td>1</td>\n",
       "      <td>1</td>\n",
       "    </tr>\n",
       "  </tbody>\n",
       "</table>\n",
       "</div>"
      ],
      "text/plain": [
       "  first_active_month          card_id  feature_1  feature_2  feature_3\n",
       "0            2017-04  C_ID_0ab67a22ab          3          3          1\n",
       "1            2017-01  C_ID_130fd0cbdd          2          3          0\n",
       "2            2017-08  C_ID_b709037bc5          5          1          1\n",
       "3            2017-12  C_ID_d27d835a9f          2          1          0\n",
       "4            2015-12  C_ID_2b5e3df5c2          5          1          1"
      ]
     },
     "execution_count": 39,
     "metadata": {},
     "output_type": "execute_result"
    }
   ],
   "source": [
    "test_data = pd.read_csv(r\"G:\\IIITD\\SML\\Project\\elo_merchant_category\\test.csv\")\n",
    "test_data.head()"
   ]
  },
  {
   "cell_type": "code",
   "execution_count": 40,
   "metadata": {},
   "outputs": [],
   "source": [
    "train_data.drop(['first_active_month'], axis=1, inplace=True)\n",
    "test_data.drop(['first_active_month'], axis=1, inplace=True)"
   ]
  },
  {
   "cell_type": "code",
   "execution_count": 41,
   "metadata": {},
   "outputs": [
    {
     "data": {
      "text/plain": [
       "Index(['card_id', 'target', 'feature_1', 'feature_2', 'feature_3'], dtype='object')"
      ]
     },
     "execution_count": 41,
     "metadata": {},
     "output_type": "execute_result"
    }
   ],
   "source": [
    "# Move target column to the second index\n",
    "target = train_data['target']\n",
    "train_data.drop(labels=['target'], axis=1,inplace = True)\n",
    "train_data.insert(1, 'target', target)\n",
    "train_data.columns"
   ]
  },
  {
   "cell_type": "markdown",
   "metadata": {},
   "source": [
    "## Linear Regression Model"
   ]
  },
  {
   "cell_type": "code",
   "execution_count": 43,
   "metadata": {},
   "outputs": [
    {
     "name": "stdout",
     "output_type": "stream",
     "text": [
      "Train predictions:  [-0.49973716 -0.4181723  -0.35435852 ... -0.50566923 -0.39217492\n",
      " -0.34842645]\n",
      "Root Mean squared error on the train data:  3.849965430724074\n",
      "Test predictions:  [-0.43592338 -0.39810698 -0.4559887  ... -0.4559887  -0.31061005\n",
      " -0.4559887 ]\n"
     ]
    }
   ],
   "source": [
    "from sklearn import linear_model\n",
    "def linear_regression(train_data, test_data):\n",
    "    \n",
    "    X_train = train_data.iloc[:, 2:].values\n",
    "    Y_train = train_data.iloc[:, 1].values\n",
    "    X_test = test_data.iloc[:, 1:].values\n",
    "    \n",
    "    \n",
    "    # Create linear regression object \n",
    "    regr = linear_model.LinearRegression()     \n",
    "    regr.fit(X_train, Y_train)\n",
    "    \n",
    "    # Train predictions\n",
    "    y_pred_train = regr.predict(X_train)\n",
    "    print(\"Train predictions: \", y_pred_train)\n",
    "    \n",
    "    # Compute mean squared error\n",
    "    error = (Y_train - y_pred_train)**2\n",
    "    mse = np.sum(error)\n",
    "    mse = mse/len(Y_train)\n",
    "    rmse = np.sqrt(mse)\n",
    "    print(\"Root Mean squared error on the train data: \", rmse)\n",
    "    \n",
    "    #Prediction\n",
    "    y_pred=regr.predict(X_test)\n",
    "    print(\"Test predictions: \",y_pred)\n",
    "    \n",
    "    return y_pred\n",
    "\n",
    "linear_predictions = linear_regression(train_data, test_data)\n",
    "    "
   ]
  },
  {
   "cell_type": "markdown",
   "metadata": {},
   "source": [
    "## Random Forest Model"
   ]
  },
  {
   "cell_type": "code",
   "execution_count": 47,
   "metadata": {},
   "outputs": [
    {
     "name": "stdout",
     "output_type": "stream",
     "text": [
      "Train predictions:  [-0.40953328 -0.40705137 -0.30249897 ... -0.37727926 -0.29911306\n",
      " -0.26717217]\n",
      "Root Mean squared error on the train data:  3.848821699727652\n",
      "Test predictions:  [-0.56700389 -0.31446568 -0.56261871 ... -0.56261871 -0.40648854\n",
      " -0.56261871]\n"
     ]
    }
   ],
   "source": [
    "from sklearn.ensemble import RandomForestRegressor\n",
    "def random_forest(train_data, test_data):\n",
    "    \n",
    "    X_train = train_data.iloc[:, 2:].values\n",
    "    Y_train = train_data.iloc[:, 1].values\n",
    "    X_test = test_data.iloc[:, 1:].values\n",
    "    \n",
    "    \n",
    "    rf = RandomForestRegressor()   \n",
    "    rf.fit(X_train, Y_train)\n",
    "    \n",
    "    # Train predictions\n",
    "    y_pred_train = rf.predict(X_train)\n",
    "    print(\"Train predictions: \", y_pred_train)\n",
    "    \n",
    "    # Compute mean squared error\n",
    "    error = (Y_train - y_pred_train)**2\n",
    "    mse = np.sum(error)\n",
    "    mse = mse/len(Y_train)\n",
    "    rmse = np.sqrt(mse)\n",
    "    print(\"Root Mean squared error on the train data: \", rmse)\n",
    "    \n",
    "    #Prediction\n",
    "    y_pred=rf.predict(X_test)\n",
    "    print(\"Test predictions: \",y_pred)\n",
    "    \n",
    "    return y_pred\n",
    "\n",
    "forest_predictions = random_forest(train_data, test_data)\n",
    "    "
   ]
  },
  {
   "cell_type": "markdown",
   "metadata": {},
   "source": [
    "## Light Gbm Model"
   ]
  },
  {
   "cell_type": "code",
   "execution_count": 50,
   "metadata": {},
   "outputs": [
    {
     "name": "stdout",
     "output_type": "stream",
     "text": [
      "Train predictions:  [-0.399158   -0.40156964 -0.3578372  ... -0.38891576 -0.35539181\n",
      " -0.34378152]\n",
      "Mean squared error on the train data:  3.849434804798477\n",
      "Test predictions:  [-0.46266541 -0.36084082 -0.45952297 ... -0.45952297 -0.39981425\n",
      " -0.45952297]\n"
     ]
    }
   ],
   "source": [
    "import lightgbm as lgb\n",
    "def Light_gbm_model(train_data, test_data):\n",
    "    \n",
    "    X_train = train_data.iloc[:, 2:].values\n",
    "    Y_train = train_data.iloc[:, 1].values\n",
    "    X_test = test_data.iloc[:, 1:].values\n",
    "    \n",
    "    d_train = lgb.Dataset(X_train, label=Y_train)\n",
    "    params = {}\n",
    "    params['learning_rate'] = 0.001\n",
    "    params['boosting_type'] = 'gbdt'\n",
    "    params['objective'] = 'regression'\n",
    "    params['metric'] = 'mse'\n",
    "    params['num_leaves'] = 300\n",
    "    params['min_data'] = 200\n",
    "    clf = lgb.train(params, d_train, 500)\n",
    "    \n",
    "    # Train predictions\n",
    "    y_pred_train = clf.predict(X_train)\n",
    "    print(\"Train predictions: \", y_pred_train)\n",
    "    \n",
    "    # Compute mean squared error\n",
    "    error = (Y_train - y_pred_train)**2\n",
    "    mse = np.sum(error)\n",
    "    mse = mse/len(Y_train)\n",
    "    rmse = np.sqrt(mse)\n",
    "    print(\"Mean squared error on the train data: \", rmse)\n",
    "    \n",
    "    #Prediction\n",
    "    y_pred=clf.predict(X_test)\n",
    "    print(\"Test predictions: \",y_pred)\n",
    "    \n",
    "    return y_pred\n",
    "\n",
    "light_gbm_predictions = Light_gbm_model(train_data, test_data) "
   ]
  },
  {
   "cell_type": "markdown",
   "metadata": {},
   "source": [
    "## XGB model"
   ]
  },
  {
   "cell_type": "code",
   "execution_count": 54,
   "metadata": {},
   "outputs": [
    {
     "name": "stdout",
     "output_type": "stream",
     "text": [
      "X_train (161533, 3)\n",
      "X_test (40384, 3)\n",
      "Y_train (161533,)\n",
      "Y_test (40384,)\n",
      "[-0.31856078 -0.5720693  -0.37571162 ... -0.5708957  -0.31856078\n",
      " -0.31856078]\n",
      "[ 4.39027725 -0.68812574 -0.57395811 ...  0.07554159 -0.12086987\n",
      "  0.96800893]\n",
      "Mean Squared Error of testing data 3.7186839615039604\n",
      "Predictions on the testing dataset: [-0.5708957  -0.3231389  -0.5720693  ... -0.5720693  -0.42832512\n",
      " -0.5720693 ]\n"
     ]
    }
   ],
   "source": [
    "def xgb_model(train_data, test_data):\n",
    "    \n",
    "    train = train_data.iloc[:, 2:].values\n",
    "    target = train_data.iloc[:, 1].values\n",
    "    test = test_data.iloc[:, 1:].values\n",
    "    \n",
    "    # Split the training dataset\n",
    "    X_train, X_test, y_train, y_test = train_test_split(train, target, test_size=0.2, random_state=123)\n",
    "    \n",
    "    print(\"X_train\", X_train.shape)\n",
    "    print(\"X_test\", X_test.shape)\n",
    "    print(\"Y_train\", y_train.shape)\n",
    "    print(\"Y_test\", y_test.shape)\n",
    "    \n",
    "    classify = xgb.XGBRegressor(objective ='reg:squarederror')\n",
    "    model = classify.fit(X_train,y_train)\n",
    "    \n",
    "    test_pred = model.predict(X_test)\n",
    "    print(test_pred)\n",
    "    y_test = np.asarray(y_test)\n",
    "    print(y_test)\n",
    "    \n",
    "    error = (y_test - test_pred)**2\n",
    "    mse = np.sum(error)\n",
    "    mse = mse/len(y_test)\n",
    "    rmse = np.sqrt(mse)\n",
    "    print(\"Mean Squared Error of testing data\", rmse)\n",
    "    \n",
    "    xgb_test_pred = model.predict(test)\n",
    "    print(\"Predictions on the testing dataset:\", xgb_test_pred)\n",
    "    \n",
    "    return xgb_test_pred\n",
    "\n",
    "xgb_predictions = xgb_model(train_data, test_data)"
   ]
  },
  {
   "cell_type": "code",
   "execution_count": 55,
   "metadata": {},
   "outputs": [],
   "source": [
    "def save_predictions(predictions, test_data):\n",
    "    df = pd.DataFrame()\n",
    "    df['card_id'] = test_data['card_id']\n",
    "    df['target'] = predictions\n",
    "    df.to_csv(r\"G:\\IIITD\\SML\\Project\\elo_merchant_category\\Baseline\\submit_xgb.csv\")\n",
    "    \n",
    "save_predictions(xgb_predictions, test_data)"
   ]
  },
  {
   "cell_type": "code",
   "execution_count": null,
   "metadata": {},
   "outputs": [],
   "source": []
  }
 ],
 "metadata": {
  "kernelspec": {
   "display_name": "Python 3",
   "language": "python",
   "name": "python3"
  },
  "language_info": {
   "codemirror_mode": {
    "name": "ipython",
    "version": 3
   },
   "file_extension": ".py",
   "mimetype": "text/x-python",
   "name": "python",
   "nbconvert_exporter": "python",
   "pygments_lexer": "ipython3",
   "version": "3.7.4"
  }
 },
 "nbformat": 4,
 "nbformat_minor": 2
}
